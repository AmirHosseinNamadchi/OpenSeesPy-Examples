{
 "cells": [
  {
   "cell_type": "markdown",
   "metadata": {},
   "source": [
    "# Double-Layer Shallow Dome\n",
    "#### March 2020, Amir Hossein Namadchi\n",
    "This is an OpenSeesPy simulation of one of the numerical examples in our previously [published paper](https://ascelibrary.org/doi/abs/10.1061/%28ASCE%29EM.1943-7889.0001329). The Core was purely written in *Mathematica*. This is my attempt to perform the analysis again via Opensees Core, to see if I can get the similar results. In the paper, we used *Total Lagrangian* framework to model the structure. Unfortunately, OpenSees does not include this framework, so, alternatively, I will use Corotational truss element.\n"
   ]
  },
  {
   "cell_type": "code",
   "execution_count": 1,
   "metadata": {},
   "outputs": [],
   "source": [
    "import numpy as np\n",
    "import openseespy.opensees as ops\n",
    "import matplotlib.pyplot as plt"
   ]
  },
  {
   "cell_type": "markdown",
   "metadata": {},
   "source": [
    "Below, the base units are defined as python variables:"
   ]
  },
  {
   "cell_type": "code",
   "execution_count": 2,
   "metadata": {},
   "outputs": [],
   "source": [
    "## Units\n",
    "m = 1               # Meters\n",
    "KN = 1              # KiloNewtons\n",
    "s = 1               # Seconds"
   ]
  },
  {
   "cell_type": "markdown",
   "metadata": {},
   "source": [
    "![a Double-Layer Shallow Dome](imgs/DoubleLayerDome.png)"
   ]
  },
  {
   "cell_type": "markdown",
   "metadata": {},
   "source": [
    "### Model Defintion\n",
    "The coordinates information for each node are stored `node_coords`. Each row represent a node with the corresponding coordinates. Elements configuration are also described in `connectivity`, each row representing an element with its node IDs. Elements cross-sectional areas are stored in `area_list`. This appraoch, offers a more pythonic and flexible code when building the model. Since this is a relatively large model, some data will be read from external `.txt` files to keep the code cleaner."
   ]
  },
  {
   "cell_type": "code",
   "execution_count": 3,
   "metadata": {},
   "outputs": [],
   "source": [
    "# Node Coordinates Matrix (size : nn x 3)\n",
    "node_coords = np.loadtxt('DLSDome/nodes.txt',\n",
    "                         dtype = np.float64) * m\n",
    "\n",
    "# Element Connectivity Matrix (size: nel x 2)\n",
    "connectivity = np.loadtxt('DLSDome/connectivity.txt',\n",
    "                          dtype = np.int64).tolist()\n",
    "\n",
    "# Loaded Nodes\n",
    "loaded_nodes = np.loadtxt('DLSDome/loaded_nodes.txt',\n",
    "                          dtype = np.int64).tolist()\n",
    "\n",
    "# Get Number of total Nodes\n",
    "nn = len(node_coords)\n",
    "# Get Number of total Elements\n",
    "nel = len(connectivity)\n",
    "\n",
    "# Cross-sectional area list (size: nel)\n",
    "area_list = np.ones(nel)*(0.001)*(m**2)\n",
    "\n",
    "# Modulus of Elasticity list (size: nel)\n",
    "E_list = np.ones(nel)*(2.0*10**8)*(KN/m**2)\n",
    "\n",
    "# Mass Density\n",
    "rho = 7.850*((KN*s**2)/(m**4))\n",
    "\n",
    "#Boundary Conditions (size: fixed_nodes x 4)\n",
    "B_C = np.column_stack((np.arange(1,31),\n",
    "                 np.ones((30,3), dtype = np.int64))\n",
    "               ).tolist()"
   ]
  },
  {
   "cell_type": "markdown",
   "metadata": {},
   "source": [
    "### Model Construction\n",
    "I use <i>list comprehension</i> to add nodes,elements and other objects to the domain. "
   ]
  },
  {
   "cell_type": "code",
   "execution_count": 4,
   "metadata": {},
   "outputs": [],
   "source": [
    "ops.wipe()\n",
    "ops.model('basic','-ndm',3,'-ndf',3)\n",
    "\n",
    "# Adding nodes to the model object using list comprehensions\n",
    "[ops.node(n+1,*node_coords[n]) for n in range(nn)];\n",
    "\n",
    "# Applying BC\n",
    "[ops.fix(B_C[n][0],*B_C[n][1:]) for n in range(len(B_C))];\n",
    "\n",
    "# Set Material\n",
    "ops.uniaxialMaterial('Elastic',1, E_list[0])\n",
    "\n",
    "# Adding Elements\n",
    "[ops.element('corotTruss', e+1, *connectivity[e], area_list[e],\n",
    "             1,'-rho', rho*area_list[e], '-cMass', 1) for e in range(nel)];"
   ]
  },
  {
   "cell_type": "markdown",
   "metadata": {},
   "source": [
    "* ### Eigenvalue Analysis\n",
    "Let's get the first 6 periods of the structure to see if they coincide with the ones in paper."
   ]
  },
  {
   "cell_type": "code",
   "execution_count": 5,
   "metadata": {},
   "outputs": [
    {
     "name": "stdout",
     "output_type": "stream",
     "text": [
      "The first 6 period of the structure are as follows:\n",
      " [0.07189215 0.06809579 0.06809578 0.04648394 0.04648388 0.03117022]\n"
     ]
    }
   ],
   "source": [
    "eigenvalues = ops.eigen(6)\n",
    "T_list = 2*np.pi/np.sqrt(eigenvalues)\n",
    "print('The first 6 period of the structure are as follows:\\n', T_list)"
   ]
  },
  {
   "cell_type": "markdown",
   "metadata": {},
   "source": [
    "* ### Dynamic Analysis\n",
    "Great accordance is obtained in eigenvalue analysis. Now, let's do `wipeAnalysis()` and perform dynamic analysis. The Newmark time integration algorithm with $\\gamma=0.5$ and $\\beta=0.25$ (Constant Average Acceleration Algorithm) is used. Harmonic loads are applied vertically on the `loaded_nodes` nodes.\n"
   ]
  },
  {
   "cell_type": "code",
   "execution_count": 6,
   "metadata": {},
   "outputs": [],
   "source": [
    "ops.wipeAnalysis()\n",
    "\n",
    "# define load function\n",
    "P = lambda t: 250*np.sin(250*t)\n",
    "\n",
    "# Dynamic Analysis Parameters\n",
    "dt = 0.00025\n",
    "time = 0.2\n",
    "time_domain = np.arange(0,time,dt)\n",
    "\n",
    "# Adding loads to the domain beautifully\n",
    "ops.timeSeries('Path', 1,\n",
    "               '-dt', dt,\n",
    "               '-values', *np.vectorize(P)(time_domain),\n",
    "               '-time', *time_domain)\n",
    "ops.pattern('Plain', 1, 1)\n",
    "[ops.load(n, *[0,0,-1]) for n in loaded_nodes];\n",
    "\n",
    "# Analysis\n",
    "ops.constraints('Plain')\n",
    "ops.numberer('Plain')\n",
    "ops.system('ProfileSPD')\n",
    "ops.test('NormUnbalance', 0.0000001, 100)\n",
    "ops.algorithm('ModifiedNewton')\n",
    "ops.integrator('Newmark', 0.5, 0.25)\n",
    "ops.analysis('Transient')"
   ]
  },
  {
   "cell_type": "code",
   "execution_count": 7,
   "metadata": {},
   "outputs": [],
   "source": [
    "time_lst =[]           # list to hold time stations for plotting\n",
    "d_apex_list = []       # list to hold vertical displacments of the apex\n",
    "\n",
    "for i in range(len(time_domain)):\n",
    "    is_done = ops.analyze(1, dt)\n",
    "    if is_done != 0:\n",
    "        print('Failed to Converge!')\n",
    "        break\n",
    "    time_lst.append(ops.getTime())\n",
    "    d_apex_list.append(ops.nodeDisp(362,3))"
   ]
  },
  {
   "cell_type": "markdown",
   "metadata": {},
   "source": [
    "### Visualization\n",
    "Below, the time history of the vertical displacement of the apex is plotted."
   ]
  },
  {
   "cell_type": "code",
   "execution_count": 8,
   "metadata": {},
   "outputs": [
    {
     "data": {
      "image/png": "[encoded data removed]",
      "text/plain": [
       "<Figure size 864x288 with 1 Axes>"
      ]
     },
     "metadata": {
      "needs_background": "light"
     },
     "output_type": "display_data"
    }
   ],
   "source": [
    "plt.figure(figsize=(12,4))\n",
    "plt.plot(time_lst, np.array(d_apex_list), color = '#d62d20', linewidth=1.75)\n",
    "plt.ylabel('Vertical Displacement (m)', {'fontname':'Cambria', 'fontstyle':'italic','size':14})\n",
    "plt.xlabel('Time (sec)', {'fontname':'Cambria', 'fontstyle':'italic','size':14})\n",
    "plt.xlim([0.0, time])\n",
    "plt.grid()\n",
    "plt.yticks(fontname = 'Cambria', fontsize = 14)\n",
    "plt.xticks(fontname = 'Cambria', fontsize = 14);"
   ]
  },
  {
   "cell_type": "markdown",
   "metadata": {},
   "source": [
    "### Closure\n",
    "Very good agreements with the paper are obtained.\n",
    "<blockquote>Namadchi, Amir Hossein, Farhang Fattahi, and Javad Alamatian. \"Semiexplicit Unconditionally Stable Time Integration for Dynamic Analysis Based on Composite Scheme.\" Journal of Engineering Mechanics 143, no. 10 (2017): 04017119.</blockquote>\n"
   ]
  }
 ],
 "metadata": {
  "kernelspec": {
   "display_name": "Python 3",
   "language": "python",
   "name": "python3"
  },
  "language_info": {
   "codemirror_mode": {
    "name": "ipython",
    "version": 3
   },
   "file_extension": ".py",
   "mimetype": "text/x-python",
   "name": "python",
   "nbconvert_exporter": "python",
   "pygments_lexer": "ipython3",
   "version": "3.7.4"
  }
 },
 "nbformat": 4,
 "nbformat_minor": 2
}
