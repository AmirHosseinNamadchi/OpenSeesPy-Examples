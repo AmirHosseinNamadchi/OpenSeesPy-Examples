{
 "cells": [
  {
   "cell_type": "markdown",
   "metadata": {},
   "source": [
    "# Nonlinear seismic response of a MRF\n",
    "#### March 2020, By Amir Hossein Namadchi\n",
    "This is an OpenSeesPy simulation of a moment resisting frame subjected to seismic excitation. The model was introduced by *C. Kolay* & *J. M. Ricles* in their paper entitled [Assessment of explicit and semi-explicit classes of model-based algorithms for direct integration in structural dynamics](https://onlinelibrary.wiley.com/doi/abs/10.1002/nme.5153). The beams and columns of the MRF are modeled using `dispBeamColumn` fiber elements. The gravity load resisting system associated with the MRF is modeled using a lean-on column composed of linear elastic beam-column elements with 2nd Order $P-\\Delta$ effects [[1]](https://onlinelibrary.wiley.com/doi/abs/10.1002/nme.5153)."
   ]
  },
  {
   "cell_type": "markdown",
   "metadata": {},
   "source": [
    "![Curved Arch](imgs/MRF2LC.PNG)"
   ]
  },
  {
   "cell_type": "code",
   "execution_count": 1,
   "metadata": {},
   "outputs": [],
   "source": [
    "import numpy as np\n",
    "import openseespy.opensees as ops\n",
    "import matplotlib.pyplot as plt"
   ]
  },
  {
   "cell_type": "markdown",
   "metadata": {},
   "source": [
    "## Units"
   ]
  },
  {
   "cell_type": "code",
   "execution_count": 2,
   "metadata": {},
   "outputs": [],
   "source": [
    "## Units\n",
    "m = 1.0               # Meters\n",
    "KN = 1.0              # KiloNewtons\n",
    "sec = 1.0             # Seconds\n",
    "inch = 0.0254*m       # inches \n",
    "\n",
    "kg = KN*(sec**2)/m    # mass unit (derived)\n",
    "g = 9.81*(m/sec**2)   # gravitational constant"
   ]
  },
  {
   "cell_type": "markdown",
   "metadata": {},
   "source": [
    "## Earthquake record\n",
    "This will load *1994 Northridge* earthquake ground motion record (Canyon Country - W Lost Cany station) downloaded for the [PEER website](https://ngawest2.berkeley.edu/). Then, the record is scaled by a factor of **3** as follows (scaling could also be done when defining `timeSeries`):"
   ]
  },
  {
   "cell_type": "code",
   "execution_count": 3,
   "metadata": {},
   "outputs": [],
   "source": [
    "dt = 0.01*sec\n",
    "northridge = np.loadtxt('RSN960_NORTHR_LOS270.AT2', skiprows=4).flatten()\n",
    "northridge = np.column_stack((np.arange(0,len(northridge)*dt, dt),\n",
    "                northridge*3*g))"
   ]
  },
  {
   "cell_type": "markdown",
   "metadata": {},
   "source": [
    "## Model Definition\n",
    "### Geometry\n",
    "Node coordinates and element connectivity are defined."
   ]
  },
  {
   "cell_type": "code",
   "execution_count": 4,
   "metadata": {},
   "outputs": [],
   "source": [
    "ops.wipe()\n",
    "ops.model('basic','-ndm',2,'-ndf',3)\n",
    "\n",
    "## Main Nodes\n",
    "# Node Coordinates Matrix (size : nn x 2)\n",
    "node_coords = np.array([[0,0],[6,0],\n",
    "                        [0,1],[6,1],\n",
    "                        [0,2],[6,2],\n",
    "                        [0,2.5],[6,2.5],\n",
    "                        [0,3],[0.5,3],[1,3],[3,3],[5,3],[5.5,3],[6,3],\n",
    "                        [0,3.5],[6,3.5],\n",
    "                        [0,4],[6,4],\n",
    "                        [0,5],[6,5],\n",
    "                        [0,5.5],[6,5.5],\n",
    "                        [0,6],[0.5,6],[1,6],[3,6],[5,6],[5.5,6],[6,6]\n",
    "                       ], dtype = np.float64)*m\n",
    "## Main Elements\n",
    "# Element Connectivity Matrix (size: nel x 2)\n",
    "connectivity = [[1, 3], [3, 5], [5, 7], [7, 9],\n",
    "                [9, 10], [10, 11], [11, 12], [12, 13],\n",
    "                [13, 14], [14, 15], [15, 8], [8, 6],\n",
    "                [6, 4], [4, 2], [9, 16], [16, 18],\n",
    "                [18, 20], [20, 22], [22, 24], [24, 25],\n",
    "                [25, 26], [26, 27], [27, 28], [28, 29],\n",
    "                [29, 30], [30, 23], [23, 21], [21, 19],\n",
    "                [19, 17], [17, 15]]\n",
    "\n",
    "# Get Number of elements\n",
    "nel = len(connectivity)\n",
    "\n",
    "# Distinguish beams and columns by their element tag ID\n",
    "all_the_beams = list(range(5, 10+1)) + list(range(20, 25+1))\n",
    "all_the_cols = list(np.setdiff1d(np.arange(1, nel+1),\n",
    "                                 all_the_beams))"
   ]
  },
  {
   "cell_type": "markdown",
   "metadata": {},
   "source": [
    "### Sections & Material\n",
    "sections are defined in `dict` which is quite self-explanatory."
   ]
  },
  {
   "cell_type": "code",
   "execution_count": 5,
   "metadata": {},
   "outputs": [],
   "source": [
    "# Main Beams and Columns\n",
    "sections = {'W24x55':{'d':23.57*inch, 'tw':0.395*inch,\n",
    "                      'bf':7.005*inch, 'tf':0.505*inch,\n",
    "                      'A':16.2*(inch**2),\n",
    "                      'I1':1350*(inch**4), 'I2':29.1*(inch**4)},\n",
    "            \n",
    "            'W14x120':{'d':14.48*inch, 'tw':0.590*inch,\n",
    "                      'bf':14.670*inch, 'tf':0.940*inch,\n",
    "                      'A':35.3*(inch**2),\n",
    "                      'I1':1380*(inch**4), 'I2':495*(inch**4)}\n",
    "           }\n",
    "\n",
    "# Leaning columns section properties\n",
    "leaning_col = {'A':(9.76e-2)*m**2,\n",
    "               'I1':(7.125e-4)*m**4}\n",
    "\n",
    "# Material properties\n",
    "F_y = 345000*(KN/m**2)     # yield strength\n",
    "E_0 = 2e8*(KN/m**2)        # initial elastic tangent\n",
    "eta = 0.01                 # strain-hardening ratio\n",
    "rho = 7850*(kg/m**3)       # mass density"
   ]
  },
  {
   "cell_type": "markdown",
   "metadata": {},
   "source": [
    "### Adding to the Domain"
   ]
  },
  {
   "cell_type": "code",
   "execution_count": 6,
   "metadata": {},
   "outputs": [],
   "source": [
    "# Nodal loads and Masses\n",
    "lumped_mass = 50.97*kg     # seismic floor mass\n",
    "P_1 = 500*KN               # Nodal loads\n",
    "\n",
    "# Adding nodes to the domain\n",
    "## Main Nodes\n",
    "[ops.node(n+1,*node_coords[n])\n",
    " for n in range(len(node_coords))];\n",
    "## Fictitious Nodes (Leaning columns)\n",
    "ops.node(100,*[7.0, 0.0])                                # @ Base\n",
    "ops.node(101,*[7.0, 3.0],\n",
    "         '-mass', *[lumped_mass, 0.00001, 0.00001])      # @ Story 1\n",
    "ops.node(102,*[7.0, 6.0],\n",
    "         '-mass', *[lumped_mass, 0.00001, 0.00001])      # @ Story 2 (roof)\n",
    "\n",
    "# Material\n",
    "# -> uniaxial bilinear steel material with kinematic hardening\n",
    "ops.uniaxialMaterial('Steel01', 1,\n",
    "                     F_y, E_0, eta)\n",
    "\n",
    "# Adding Sections\n",
    "## Beams\n",
    "ops.section('WFSection2d', 1, 1,\n",
    "            sections['W24x55']['d'],\n",
    "            sections['W24x55']['tw'],\n",
    "            sections['W24x55']['bf'],\n",
    "            sections['W24x55']['tf'], 10, 3)\n",
    "## Columns\n",
    "ops.section('WFSection2d', 2, 1,\n",
    "            sections['W14x120']['d'],\n",
    "            sections['W14x120']['tw'],\n",
    "            sections['W14x120']['bf'],\n",
    "            sections['W14x120']['tf'], 10, 3)\n",
    "\n",
    "# Boundary Conditions\n",
    "## Fixing the Base Nodes\n",
    "[ops.fix(n, 1, 1, 0)\n",
    " for n in [1, 2, 100]];\n",
    "## Rigid floor diaphragm\n",
    "ops.equalDOF(12, 101, 1)\n",
    "ops.equalDOF(27, 102, 1)\n",
    "\n",
    "# Transformations & Integration\n",
    "## Transformation\n",
    "ops.geomTransf('Linear', 1)    # For Beams\n",
    "ops.geomTransf('PDelta', 2)    # For leaning Columns\n",
    "## Integration scheme\n",
    "ops.beamIntegration('Lobatto', 1, 1, 5)   # For Beams\n",
    "ops.beamIntegration('Lobatto', 2, 2, 5)   # For Columns\n",
    "\n",
    "# Adding Elements\n",
    "## Beams\n",
    "[ops.element('dispBeamColumn',\n",
    "            e, *connectivity[e-1], 1, 1,\n",
    "            '-cMass', rho*sections['W24x55']['A'])\n",
    " for e in all_the_beams];\n",
    "## Columns\n",
    "## -> OpenseesPy cannot handle numpy int types\n",
    "## -> so I had to convert them to primitive python int type\n",
    "[ops.element('dispBeamColumn',\n",
    "             e, *connectivity[e-1], 1, 2,\n",
    "             '-cMass', rho*sections['W14x120']['A'])\n",
    " for e in list(map(int, all_the_cols))];\n",
    "\n",
    "## Leaning Columns\n",
    "ops.element('elasticBeamColumn', nel+1, *[100, 101],\n",
    "            leaning_col['A'], E_0, leaning_col['I1'], 2)\n",
    "ops.element('elasticBeamColumn', nel+2, *[101, 102],\n",
    "            leaning_col['A'], E_0, leaning_col['I1'], 2)"
   ]
  },
  {
   "cell_type": "markdown",
   "metadata": {},
   "source": [
    "### Damping Model\n",
    "The model assumes 2% damping for the first and second modes of the system according to rayleigh's damping model. for two modes, the damping coefficients can be obtained by:\n",
    "\n",
    "$$ \\left( \\begin{array}{l}\n",
    "{\\alpha _0}\\\\\n",
    "{\\alpha _1}\n",
    "\\end{array} \\right) = 2\\frac{{{\\omega _m}{\\omega _n}}}{{\\omega _n^2 - \\omega _m^2}}\\left[ {\\begin{array}{*{20}{c}}\n",
    "{{\\omega _n}}&{ - {\\omega _m}}\\\\\n",
    "{ - 1/{\\omega _n}}&{1/{\\omega _m}}\n",
    "\\end{array}} \\right]\\left( \\begin{array}{l}\n",
    "{\\zeta _m}\\\\\n",
    "{\\zeta _n}\n",
    "\\end{array} \\right)\\ $$\n",
    "\n",
    "So, we need to perform an eigen analysis to obtain first two natural frequencies."
   ]
  },
  {
   "cell_type": "code",
   "execution_count": 7,
   "metadata": {},
   "outputs": [
    {
     "name": "stdout",
     "output_type": "stream",
     "text": [
      "Two first periods are: [0.61688251 0.11741945]\n"
     ]
    }
   ],
   "source": [
    "# Building Rayleigh damping model\n",
    "omega = np.sqrt(ops.eigen('-fullGenLapack', 2))\n",
    "print('Two first periods are:', 2*np.pi/omega)\n",
    "\n",
    "a_m, b_k = 2*((omega[0]*omega[1])/(omega[1]**2-omega[0]**2))*(\n",
    "    np.array([[omega[1],-omega[0]],\n",
    "              [-1/omega[1],1/omega[0]]])@np.array([0.02,0.02]))\n",
    "## Rayleigh damping based on initial stiffness\n",
    "ops.rayleigh(a_m, 0, b_k, 0)"
   ]
  },
  {
   "cell_type": "markdown",
   "metadata": {},
   "source": [
    "## Analysis\n",
    "### Gravity Analysis"
   ]
  },
  {
   "cell_type": "code",
   "execution_count": 8,
   "metadata": {},
   "outputs": [
    {
     "data": {
      "text/plain": [
       "0"
      ]
     },
     "execution_count": 8,
     "metadata": {},
     "output_type": "execute_result"
    }
   ],
   "source": [
    "# Time Series\n",
    "ops.timeSeries('Linear', 1)                    # For gravitional loads\n",
    "\n",
    "# Load Pattern\n",
    "ops.pattern('Plain', 1, 1)\n",
    "ops.load(101, *[0.0, -P_1, 0.0])\n",
    "ops.load(102, *[0.0, -P_1, 0.0])\n",
    "\n",
    "# Settings\n",
    "ops.constraints('Transformation')\n",
    "ops.numberer('RCM')\n",
    "ops.system('ProfileSPD')\n",
    "ops.test('NormUnbalance', 0.000001, 100)\n",
    "ops.algorithm('Newton')\n",
    "ops.integrator('LoadControl', 0.1)\n",
    "ops.analysis('Static')\n",
    "\n",
    "# Perform static analysis\n",
    "ops.analyze(10)"
   ]
  },
  {
   "cell_type": "markdown",
   "metadata": {},
   "source": [
    "### Time History Analysis"
   ]
  },
  {
   "cell_type": "code",
   "execution_count": 9,
   "metadata": {},
   "outputs": [],
   "source": [
    "# Set time to zero\n",
    "ops.loadConst('-time', 0.0)\n",
    "ops.wipeAnalysis()\n",
    "\n",
    "# Time Series\n",
    "ops.timeSeries('Path', 2, '-dt', dt,           # For EQ \n",
    "               '-values', *northridge[:,1],\n",
    "               '-time', *northridge[:,0])\n",
    "\n",
    "# Load Pattern\n",
    "ops.pattern('UniformExcitation', 2, 1, '-accel', 2)\n",
    "\n",
    "\n",
    "# Settings\n",
    "ops.constraints('Plain')\n",
    "ops.numberer('RCM')\n",
    "ops.system('ProfileSPD')\n",
    "ops.test('NormUnbalance', 0.0000001, 100)\n",
    "ops.algorithm('Newton')\n",
    "ops.integrator('Newmark', 0.5, 0.25)\n",
    "ops.analysis('Transient')\n",
    "\n",
    "# Record some responses to plot\n",
    "time_lst =[]     # list to hold time stations for plotting\n",
    "d_lst = []      # list to hold roof displacments\n",
    "for i in range(len(northridge)):\n",
    "    ops.analyze(1, dt)\n",
    "    time_lst.append(ops.getTime())\n",
    "    d_lst.append(ops.nodeDisp(27,1))    "
   ]
  },
  {
   "cell_type": "markdown",
   "metadata": {},
   "source": [
    "## Visualization\n",
    "Time history of the horizontal displacement of the roof is plotted here"
   ]
  },
  {
   "cell_type": "code",
   "execution_count": 10,
   "metadata": {},
   "outputs": [
    {
     "data": {
      "image/png": "[encoded data removed]",
      "text/plain": [
       "<Figure size 864x288 with 1 Axes>"
      ]
     },
     "metadata": {
      "needs_background": "light"
     },
     "output_type": "display_data"
    }
   ],
   "source": [
    "plt.figure(figsize=(12,4))\n",
    "plt.plot(time_lst, np.array(d_lst), color = '#d62d20', linewidth=1.75)\n",
    "plt.ylabel('Horizontal Displacement (m)', {'fontname':'Cambria', 'fontstyle':'italic','size':14})\n",
    "plt.xlabel('Time (sec)', {'fontname':'Cambria', 'fontstyle':'italic','size':14})\n",
    "plt.grid()\n",
    "plt.yticks(fontname = 'Cambria', fontsize = 14)\n",
    "plt.xticks(fontname = 'Cambria', fontsize = 14);"
   ]
  },
  {
   "cell_type": "markdown",
   "metadata": {},
   "source": [
    "### References\n",
    "- <blockquote>Kolay, C. and Ricles, J.M., 2016. Assessment of explicit and semi‐explicit classes of model‐based algorithms for direct integration in structural dynamics. International Journal for Numerical Methods in Engineering, 107(1), pp.49-73.</blockquote>"
   ]
  }
 ],
 "metadata": {
  "kernelspec": {
   "display_name": "Python 3",
   "language": "python",
   "name": "python3"
  },
  "language_info": {
   "codemirror_mode": {
    "name": "ipython",
    "version": 3
   },
   "file_extension": ".py",
   "mimetype": "text/x-python",
   "name": "python",
   "nbconvert_exporter": "python",
   "pygments_lexer": "ipython3",
   "version": "3.7.4"
  }
 },
 "nbformat": 4,
 "nbformat_minor": 2
}
