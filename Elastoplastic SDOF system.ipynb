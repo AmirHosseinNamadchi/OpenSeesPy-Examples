{
 "cells": [
  {
   "cell_type": "markdown",
   "metadata": {},
   "source": [
    "# Elastoplastic SDOF system\n",
    "#### March 2020, By Amir Hossein Namadchi\n",
    "This is an OpenSeesPy simulation of a simple SDOF system with elastoplastic behavior mentioned in *Dynamics of Structures* book by  *Ray W. Clough* and *J. Penzien*. This example has been solved in the book, so the result obtained here can be compared with the reference."
   ]
  },
  {
   "cell_type": "markdown",
   "metadata": {},
   "source": [
    "![EPSDOF](imgs/SDOFElastoPlastic.PNG)"
   ]
  },
  {
   "cell_type": "code",
   "execution_count": 5,
   "metadata": {},
   "outputs": [],
   "source": [
    "import numpy as np\n",
    "import openseespy.opensees as ops\n",
    "import matplotlib.pyplot as plt"
   ]
  },
  {
   "cell_type": "code",
   "execution_count": 3,
   "metadata": {},
   "outputs": [],
   "source": [
    "## Units\n",
    "inch = 1               # inches\n",
    "kips = 1              # KiloPounds\n",
    "sec = 1               # Seconds\n",
    "\n",
    "lb = kips*(sec**2)/inch    # mass unit (derived)"
   ]
  },
  {
   "cell_type": "markdown",
   "metadata": {},
   "source": [
    "Model specifications are defined as follows:"
   ]
  },
  {
   "cell_type": "code",
   "execution_count": 31,
   "metadata": {},
   "outputs": [],
   "source": [
    "m = 0.1*lb              # Mass\n",
    "k = 5.0*(kips/inch)     # Stiffness\n",
    "c = 0.2*(kips*sec/inch) # Damping\n",
    "dy_p = 1.2*inch         # Plastic state displacment\n",
    "alpha_m = c/m           # Rayleigh damping ratio\n",
    "\n",
    "# Variation of p(t) in tabular form\n",
    "load_history = np.array([[0, 0],\n",
    "                         [0.1, 5],\n",
    "                         [0.2, 8],\n",
    "                         [0.3, 7],\n",
    "                         [0.4, 5],\n",
    "                         [0.5, 3],\n",
    "                         [0.6, 2],\n",
    "                         [0.7,1],\n",
    "                         [0.8, 0]\n",
    "                        ])\n",
    "\n",
    "# Dynamic Analysis Parameters\n",
    "dt = 0.01\n",
    "time = 1.0"
   ]
  },
  {
   "cell_type": "markdown",
   "metadata": {},
   "source": [
    "### Analysis\n",
    "Let's wrap the whole part in a function so that different material behavior could be passed to the function:"
   ]
  },
  {
   "cell_type": "code",
   "execution_count": 32,
   "metadata": {},
   "outputs": [],
   "source": [
    "def do_analysis(dt, time, material_params):\n",
    "    ops.wipe()\n",
    "    ops.model('basic','-ndm',1,'-ndf',1)\n",
    "    time_domain = np.arange(0, time, dt)\n",
    "\n",
    "    # Nodes\n",
    "    ops.node(1,0.0,0.0)\n",
    "    ops.node(2,0.0,0.0)\n",
    "\n",
    "    ops.uniaxialMaterial(*material_params)\n",
    "    ops.element('zeroLength', 1, *[1,2], '-mat', 1, '-dir', 1)\n",
    "    ops.mass(2, m)\n",
    "    ops.rayleigh(alpha_m, 0.0, 0.0, 0.0)\n",
    "\n",
    "    ops.fix(1,1)\n",
    "    ops.timeSeries('Path', 1,\n",
    "                   '-values', *load_history[:,1],\n",
    "                   '-time', *load_history[:,0])\n",
    "    ops.pattern('Plain', 1, 1)\n",
    "    ops.load(2, 1)\n",
    "    \n",
    "    # Analysis\n",
    "    ops.constraints('Plain')\n",
    "    ops.numberer('Plain')\n",
    "    ops.system('ProfileSPD')\n",
    "    ops.test('NormUnbalance', 0.0000001, 100)\n",
    "    ops.algorithm('ModifiedNewton')\n",
    "    ops.integrator('Newmark', 0.5, 0.25)\n",
    "    ops.analysis('Transient')\n",
    "    \n",
    "    time_lst =[0]           # list to hold time stations for plotting\n",
    "    response = [0]          # response params of node 2     \n",
    "    \n",
    "\n",
    "    for i in range(len(time_domain)):\n",
    "        ops.analyze(1, dt)\n",
    "        time_lst.append(ops.getTime())\n",
    "        response.append(ops.nodeDisp(2,1))\n",
    "        \n",
    "    print('Done with ', material_params,'!')\n",
    "    \n",
    "    return {'time_list':np.array(time_lst),\n",
    "            'd': np.array(response)}\n"
   ]
  },
  {
   "cell_type": "markdown",
   "metadata": {},
   "source": [
    "For comparison (similar to the book), elastic analysis is also inculded:"
   ]
  },
  {
   "cell_type": "code",
   "execution_count": 33,
   "metadata": {},
   "outputs": [
    {
     "name": "stdout",
     "output_type": "stream",
     "text": [
      "Done with  ['ElasticPP', 1, 5.0, 1.2] !\n",
      "Done with  ['Elastic', 1, 5.0] !\n"
     ]
    }
   ],
   "source": [
    "epp = do_analysis(dt, time, ['ElasticPP', 1, k, dy_p])     # Elastic-Perfectly Plastic\n",
    "els = do_analysis(dt, time, ['Elastic', 1, k])             # Elastic"
   ]
  },
  {
   "cell_type": "markdown",
   "metadata": {},
   "source": [
    "### Visualization"
   ]
  },
  {
   "cell_type": "code",
   "execution_count": 34,
   "metadata": {},
   "outputs": [
    {
     "data": {
      "image/png": "[encoded data removed]",
      "text/plain": [
       "<Figure size 504x360 with 1 Axes>"
      ]
     },
     "metadata": {
      "needs_background": "light"
     },
     "output_type": "display_data"
    }
   ],
   "source": [
    "plt.figure(figsize=(7,5))\n",
    "plt.plot(epp['time_list'], epp['d'], color = '#fe4a49', linewidth=1.75, label = 'Nonlinear (EPP)')\n",
    "plt.plot(els['time_list'], els['d'], color = '#2ab7ca', linewidth=1.75, label = 'Linear (Elastic)')\n",
    "plt.ylabel('Displacement (inch)', {'fontname':'Cambria', 'fontstyle':'italic','size':14})\n",
    "plt.xlabel('Time (sec)', {'fontname':'Cambria', 'fontstyle':'italic','size':14})\n",
    "plt.xlim([0.0, time])\n",
    "plt.legend()\n",
    "plt.grid()\n",
    "plt.yticks(fontname = 'Cambria', fontsize = 14)\n",
    "plt.xticks(fontname = 'Cambria', fontsize = 14);"
   ]
  },
  {
   "cell_type": "markdown",
   "metadata": {},
   "source": [
    "### Closure\n",
    "Results obtained here with the OpenSeesPy, totally agree with the ones in the book."
   ]
  },
  {
   "cell_type": "markdown",
   "metadata": {},
   "source": [
    "### References\n",
    "- <blockquote>Clough, R.W. and Penzien, J., 2003. Dynamics of structures. Berkeley. CA: Computers and Structures, Inc.\n",
    "</blockquote>"
   ]
  }
 ],
 "metadata": {
  "kernelspec": {
   "display_name": "Python 3",
   "language": "python",
   "name": "python3"
  },
  "language_info": {
   "codemirror_mode": {
    "name": "ipython",
    "version": 3
   },
   "file_extension": ".py",
   "mimetype": "text/x-python",
   "name": "python",
   "nbconvert_exporter": "python",
   "pygments_lexer": "ipython3",
   "version": "3.7.4"
  }
 },
 "nbformat": 4,
 "nbformat_minor": 2
}
